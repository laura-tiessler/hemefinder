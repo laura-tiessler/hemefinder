{
 "cells": [
  {
   "cell_type": "markdown",
   "metadata": {},
   "source": [
    "# Analysis of residues per cavity\n",
    "This notebook details the statistic calculations performed in order to obtain the necessary approximations to the PDF for the data distributions of the residues surrounding the cavity."
   ]
  },
  {
   "cell_type": "code",
   "execution_count": null,
   "metadata": {},
   "outputs": [
    {
     "ename": "",
     "evalue": "",
     "output_type": "error",
     "traceback": [
      "\u001b[1;31mRunning cells with 'Python 3.10.4 ('pyKVFinder')' requires ipykernel package.\n",
      "Run the following command to install 'ipykernel' into the Python environment. \n",
      "Command: 'conda install -n pyKVFinder ipykernel --update-deps --force-reinstall'"
     ]
    }
   ],
   "source": [
    "# import necessary libraries\n",
    "import json\n",
    "import copy\n",
    "import pandas as pd\n",
    "from scipy.stats import shapiro\n",
    "import numpy as np\n",
    "import seaborn as sns\n",
    "import matplotlib.pyplot as plt\n",
    "from sklearn.neighbors import KernelDensity\n",
    "import scipy.optimize as optimize\n",
    "import statsmodels.api as sm\n",
    "%matplotlib inline"
   ]
  },
  {
   "cell_type": "markdown",
   "metadata": {},
   "source": [
    "## 1. Loading data and transforming it into proportions per cavity\n",
    "The first step will be transform a list of lists of residues per cavity into a dictionary of proportion of residues per cavity. These residues will be organised by the biochemical nature in the following groups:\n",
    "\n",
    "- **Aromatic:** Phe, Tyr, and Trp\n",
    "- **Polar:** Tyr, Thr, Ser, Cys, Met, Asn, Gln, and His\n",
    "- **Positive:** His, Lys, and Arg\n",
    "- **Negative:** Asp and Glu\n",
    "- **Hidrophobic:** Phe, Trp, Ala, Val, Leu, Ile, and Pro\n",
    "- **Large chain:** Phe, Tyr, Trp, Met, Gln, Glu, Arg, Lys, His, Leu, and Ile"
   ]
  },
  {
   "cell_type": "code",
   "execution_count": 2,
   "metadata": {},
   "outputs": [],
   "source": [
    "# Load data\n",
    "with open('residues.json') as json_reader:\n",
    "    data = json.load(json_reader)\n",
    "\n",
    "# Define each residue group\n",
    "chemical_nature = {\n",
    "    'aromatic': {'PHE', 'TYR', 'TRP'},\n",
    "    'polar': {'TYR', 'THR', 'SER', 'CYS', 'MET', 'ASN', 'GLN', 'HIS'},\n",
    "    'positive': {'HIS', 'LYS', 'ARG'},\n",
    "    'negative': {'ASP', 'GLU'},\n",
    "    'hidrophobic': {'PHE', 'TRP', 'ALA', 'VAL', 'LEU', 'ILE', 'PRO'},\n",
    "    'large_chain': {'PHE', 'TYR', 'TRP', 'MET', 'GLN', 'GLU', 'ARG', 'LYS', 'HIS', 'LEU', 'ILE'}\n",
    "}\n",
    "\n",
    "# Count residues per site\n",
    "sites = []\n",
    "\n",
    "for entry in data:\n",
    "    site = {\n",
    "        'aromatic': 0,\n",
    "        'polar':  0,\n",
    "        'positive': 0,\n",
    "        'negative': 0,\n",
    "        'hidrophobic': 0,\n",
    "        'large_chain': 0\n",
    "    }\n",
    "    total = len(entry)\n",
    "    for element in entry:\n",
    "        for key, value in chemical_nature.items():\n",
    "            if element in value:\n",
    "                site[key] += 1 / total\n",
    "    sites.append(site)\n",
    "sites_df = pd.DataFrame(sites)"
   ]
  },
  {
   "cell_type": "markdown",
   "metadata": {},
   "source": [
    "## 2. Exploration of data distributions per chemical nature\n",
    "The second step will be to perform a series of exploratory analyses in order to get a better understanding on how the data are distributed."
   ]
  },
  {
   "cell_type": "markdown",
   "metadata": {},
   "source": [
    "### 2.1. Basic statistical measurements"
   ]
  },
  {
   "cell_type": "code",
   "execution_count": 3,
   "metadata": {},
   "outputs": [
    {
     "name": "stdout",
     "output_type": "stream",
     "text": [
      "aromatic:\n",
      "\tmean = 0.14184408925336442\n",
      "\tmedian = 0.13636363636363635\n",
      "\tstd = 0.06969321829193242\n",
      "\tkurtosis = -0.20091985857285355\n",
      "polar:\n",
      "\tmean = 0.3521079713147782\n",
      "\tmedian = 0.3333333333333333\n",
      "\tstd = 0.11354682612431237\n",
      "\tkurtosis = 0.564932146441127\n",
      "positive:\n",
      "\tmean = 0.14145476758056172\n",
      "\tmedian = 0.125\n",
      "\tstd = 0.06697344318246501\n",
      "\tkurtosis = 0.7689461667724529\n",
      "negative:\n",
      "\tmean = 0.039727440787526734\n",
      "\tmedian = 0.034482758620689655\n",
      "\tstd = 0.03923434787856143\n",
      "\tkurtosis = 1.4051864330012265\n",
      "hidrophobic:\n",
      "\tmean = 0.5332140714239383\n",
      "\tmedian = 0.5483870967741933\n",
      "\tstd = 0.13364973863821972\n",
      "\tkurtosis = 0.20857608825554808\n",
      "large_chain:\n",
      "\tmean = 0.5918559325749089\n",
      "\tmedian = 0.5945945945945945\n",
      "\tstd = 0.10095493849971328\n",
      "\tkurtosis = 0.6404106968915864\n"
     ]
    }
   ],
   "source": [
    "# Calculating basic statistics\n",
    "single_statistics = {\n",
    "    'mean': 0,\n",
    "    'median': 0,\n",
    "    'std': 0,\n",
    "    'kurtosis': 0\n",
    "}\n",
    "all_stats = {\n",
    "    'aromatic': 0,\n",
    "    'polar':  0,\n",
    "    'positive': 0,\n",
    "    'negative': 0,\n",
    "    'hidrophobic': 0,\n",
    "    'large_chain': 0\n",
    "}\n",
    "\n",
    "for key in all_stats.keys():\n",
    "    all_stats[key] = copy.deepcopy(single_statistics)\n",
    "\n",
    "    all_stats[key]['mean'] = sites_df[key].mean()\n",
    "    all_stats[key]['median'] = sites_df[key].median()\n",
    "    all_stats[key]['std'] = sites_df[key].std()\n",
    "    all_stats[key]['kurtosis'] = sites_df[key].kurtosis()\n",
    "\n",
    "for key in all_stats.keys():\n",
    "    print(f'{key}:')\n",
    "    for subkey, value in all_stats[key].items():\n",
    "        print(f'\\t{subkey} = {value}')\n"
   ]
  },
  {
   "cell_type": "markdown",
   "metadata": {},
   "source": [
    "There seems to be quite a dispersion on the values as showed by the std values when compared with the mean or median. This result seems to be supported by the kurtosis values (kurtosis = 0 is a sign of normality). However, the normality or lack thereof of the distribution would need to be formally demonstrated by either Shapiro-Wilkson test or Kolmogorov-Smirnov test (the difference between them, right now eludes me, but should not be all that difficult to check). In any case, the visual representation of the distributions should better illustrate (lame pun), the shape of the distributions. "
   ]
  },
  {
   "cell_type": "markdown",
   "metadata": {},
   "source": [
    "### 2.2. Graphical representation of data distributions"
   ]
  },
  {
   "cell_type": "markdown",
   "metadata": {},
   "source": [
    "#### 2.2.1. Aromatic  residues"
   ]
  },
  {
   "cell_type": "code",
   "execution_count": 4,
   "metadata": {},
   "outputs": [
    {
     "data": {
      "text/plain": [
       "Text(0.5, 1.0, 'Aromatic Residues')"
      ]
     },
     "execution_count": 4,
     "metadata": {},
     "output_type": "execute_result"
    },
    {
     "data": {
      "image/png": "[encoded data removed]",
      "text/plain": [
       "<Figure size 640x480 with 1 Axes>"
      ]
     },
     "metadata": {},
     "output_type": "display_data"
    }
   ],
   "source": [
    "sns.histplot(sites_df['aromatic'])\n",
    "plt.title('Aromatic Residues')"
   ]
  },
  {
   "cell_type": "markdown",
   "metadata": {},
   "source": [
    "Seems to have a normal enough shape, we will perform shapiro-wilk test."
   ]
  },
  {
   "cell_type": "code",
   "execution_count": 5,
   "metadata": {},
   "outputs": [
    {
     "name": "stderr",
     "output_type": "stream",
     "text": [
      "/home/rfernandez/miniconda3/envs/brigit/lib/python3.8/site-packages/scipy/stats/_morestats.py:1800: UserWarning: p-value may not be accurate for N > 5000.\n",
      "  warnings.warn(\"p-value may not be accurate for N > 5000.\")\n"
     ]
    },
    {
     "data": {
      "text/plain": [
       "ShapiroResult(statistic=0.9897292852401733, pvalue=4.945436133489085e-28)"
      ]
     },
     "execution_count": 5,
     "metadata": {},
     "output_type": "execute_result"
    }
   ],
   "source": [
    "# Shapiro-Wilks normality test\n",
    "shapiro(sites_df['aromatic'])"
   ]
  },
  {
   "cell_type": "markdown",
   "metadata": {},
   "source": [
    "The null hypothesis is that the data follows a normal distribution. We have to reject this hypothesis due to the p-value being way lower than 0.05, so it is not normal."
   ]
  },
  {
   "cell_type": "markdown",
   "metadata": {},
   "source": [
    "## 2.3. PDF approximation by bimodal function\n",
    "\n",
    "Now, we will approximate the Probability Density Function (PDF) of the data distributions with a bimodal (double gaussian) distribution. To adjust the histograms to the function, we first create a smooth distribution using Kernel Density Estimation (KDE) with gaussian kernel and then adjust the bimodal function to this approximation using non-linear least squares adjustement with the Levenverg-Marquadt algorithm."
   ]
  },
  {
   "cell_type": "code",
   "execution_count": 26,
   "metadata": {},
   "outputs": [],
   "source": [
    "# Definition of bimodal distribution\n",
    "def _normpdf(x: np.array or float, nu: float, std: float):\n",
    "    \"\"\"\n",
    "    Helper function for `bimodal`, computes the PDF of a\n",
    "    gaussian function.\n",
    "    Args:\n",
    "        x (np.array or float): Set of input values to evaluate.\n",
    "        nu (float): Average value for the gaussian.\n",
    "        std (float): Standard deviation of the gaussian.\n",
    "    Returns:\n",
    "        result (float): PDF value.\n",
    "    \"\"\"\n",
    "\n",
    "    var = std ** 2\n",
    "    num = np.exp(- (x - nu) ** 2 / (2 * var))\n",
    "    return num\n",
    "\n",
    "def bimodal(\n",
    "    x: np.array,\n",
    "    chi1: float,\n",
    "    nu1: float,\n",
    "    sigma1: float,\n",
    "    chi2: float,\n",
    "    nu2: float,\n",
    "    sigma2: float\n",
    "):\n",
    "    first_gaussian = _normpdf(x, nu1, sigma1)\n",
    "    second_gaussian = _normpdf(x, nu2, sigma2)\n",
    "    return chi1 * first_gaussian + chi2 * second_gaussian\n",
    "\n",
    "\n",
    "# Definition of the training function\n",
    "def adjust(\n",
    "    data: pd.DataFrame,\n",
    "    res_family: str,\n",
    "    p0: list,\n",
    "    data_path: str\n",
    "):\n",
    "    res_data = data[res_family]\n",
    "\n",
    "    # Histogram for plot later on\n",
    "    hist, bins = np.histogram(res_data)\n",
    "    hist = (hist - hist.min()) / (hist.max() - hist.min())\n",
    "\n",
    "    # Approximation of KDE\n",
    "    dens = sm.nonparametric.KDEMultivariate(data=res_data, var_type='c')\n",
    "    x = np.linspace(0, res_data.max(), 1024)\n",
    "    y = dens.pdf(x)\n",
    "    y = ((y - y.min()) / (y.max() - y.min()))\n",
    "\n",
    "    # Adjustment of bimodal function\n",
    "    popt, pcov = optimize.curve_fit(\n",
    "        f=bimodal,\n",
    "        xdata=x,\n",
    "        ydata=y,\n",
    "        p0=p0,\n",
    "        method='lm',\n",
    "        maxfev=int(10e3)\n",
    "    )\n",
    "\n",
    "    # Calculation of R^2\n",
    "    y_gaussian = bimodal(x, *popt)\n",
    "    residuals = y - y_gaussian\n",
    "    ss_res = np.sum(residuals**2)\n",
    "    ss_tot = np.sum((y - np.mean(y)) ** 2)\n",
    "    r_squared = 1 - (ss_res / ss_tot)\n",
    "\n",
    "    # Plot\n",
    "    plt.title(f'{res_family} R^2 = {round(r_squared, 3)}; n = {len(res_data)}')\n",
    "    plt.stairs(hist, bins)\n",
    "    plt.plot(x, y_gaussian)\n",
    "    plt.legend(['Real', 'Approximate PDF'])\n",
    "    plt.legend(['Real', 'Approximate PDF'])\n",
    "    plt.savefig(f'{res_family}.png')\n",
    "    plt.show()\n",
    "\n",
    "    with open(data_path, 'r') as reader:\n",
    "        output = json.load(reader)\n",
    "        output[res_family] = popt.tolist()\n",
    "    with open(data_path, 'w') as writer:\n",
    "        json.dump(output, writer, indent=4, sort_keys=True)"
   ]
  },
  {
   "cell_type": "code",
   "execution_count": 47,
   "metadata": {},
   "outputs": [
    {
     "data": {
      "image/png": "[encoded data removed]",
      "text/plain": [
       "<Figure size 640x480 with 1 Axes>"
      ]
     },
     "metadata": {},
     "output_type": "display_data"
    }
   ],
   "source": [
    "adjust(sites_df, 'large_chain', [1, 0.6, .1, 0., 0.1, .1], './residue_stats.json')"
   ]
  },
  {
   "cell_type": "code",
   "execution_count": null,
   "metadata": {},
   "outputs": [],
   "source": []
  }
 ],
 "metadata": {
  "kernelspec": {
   "display_name": "Python 3.8.5 ('brigit')",
   "language": "python",
   "name": "python3"
  },
  "language_info": {
   "codemirror_mode": {
    "name": "ipython",
    "version": 3
   },
   "file_extension": ".py",
   "mimetype": "text/x-python",
   "name": "python",
   "nbconvert_exporter": "python",
   "pygments_lexer": "ipython3",
   "version": "3.10.4"
  },
  "orig_nbformat": 4,
  "vscode": {
   "interpreter": {
    "hash": "432411882e44f2b4138518f888f7abd6f099f714b26cf33bc3726a28d45c261e"
   }
  }
 },
 "nbformat": 4,
 "nbformat_minor": 2
}
